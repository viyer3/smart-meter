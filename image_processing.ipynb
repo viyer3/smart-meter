{
 "cells": [
  {
   "cell_type": "code",
   "execution_count": 1,
   "metadata": {},
   "outputs": [],
   "source": [
    "#import keras\n",
    "#from keras.application import vgg16\n",
    "import mysql.connector\n",
    "from mysql.connector import errorcode\n",
    "\n",
    "config = {\n",
    "    'user': 'root',\n",
    "    'password': 'GETFILE',\n",
    "    'host': 'GETFILE',\n",
    "    'database': 'usr'\n",
    "}\n",
    "\n",
    "transaction_state = {\n",
    "    'user_id': 0,\n",
    "    'loc_id': 0,\n",
    "    'start_time': 0,\n",
    "    'valid': 0\n",
    "}\n",
    "\n",
    "THIS_LOCATION = 1\n",
    "\n",
    "from PIL import Image, ImageDraw, ImageFont\n",
    "from matplotlib.pyplot import imshow\n",
    "import pytesseract, cv2\n",
    "import numpy as np\n",
    "import pytesseract\n",
    "import time\n",
    "import pyodbc\n",
    "import datetime\n",
    "%matplotlib inline"
   ]
  },
  {
   "cell_type": "code",
   "execution_count": 2,
   "metadata": {},
   "outputs": [
    {
     "data": {
      "text/plain": [
       "{'user': 'root',\n",
       " 'password': 'toor',\n",
       " 'host': '35.193.20.163',\n",
       " 'database': 'usr'}"
      ]
     },
     "execution_count": 2,
     "metadata": {},
     "output_type": "execute_result"
    }
   ],
   "source": [
    "dat = open('passw', 'r').read().split()\n",
    "config['host'] = dat[0]\n",
    "config['password'] = dat[1]\n",
    "config"
   ]
  },
  {
   "cell_type": "code",
   "execution_count": 3,
   "metadata": {},
   "outputs": [],
   "source": [
    "def test(s):\n",
    "    img = Image.open(s)\n",
    "    return pytesseract.image_to_string(s)\n",
    "\n",
    "def testrun():\n",
    "    return test('license.jpg')"
   ]
  },
  {
   "cell_type": "code",
   "execution_count": 4,
   "metadata": {},
   "outputs": [],
   "source": [
    "def processImage(img, exp = 148):\n",
    "    w, h = img.size\n",
    "    x, y, wcrop, hcrop = 120, 78, 50, 50\n",
    "    cropped_image = img.crop((x, y, w - wcrop, h - hcrop))\n",
    "    gray = cropped_image.convert('L')\n",
    "    bw = gray.point(lambda x: 0 if x<exp else 255, '1')\n",
    "    cropped_image = bw.convert('RGBA')\n",
    "    return cropped_image\n",
    "    \n",
    "def show(i):\n",
    "    imshow(np.asarray(i))"
   ]
  },
  {
   "cell_type": "code",
   "execution_count": 10,
   "metadata": {},
   "outputs": [],
   "source": [
    "img = Image.open('license.jpg').convert('RGBA')\n",
    "w, h = img.size"
   ]
  },
  {
   "cell_type": "code",
   "execution_count": 11,
   "metadata": {},
   "outputs": [
    {
     "data": {
      "image/png": "[encoded data removed]",
      "text/plain": [
       "<matplotlib.figure.Figure at 0x7fa7bc6b9390>"
      ]
     },
     "metadata": {},
     "output_type": "display_data"
    }
   ],
   "source": [
    "x, y, wcrop, hcrop = 120, 78, 50, 50\n",
    "cropped_image = img.crop((x, y, w - wcrop, h - hcrop))\n",
    "#show(cropped_image)\n",
    "gray = cropped_image.convert('L')\n",
    "bw = gray.point(lambda x: 0 if x<38 else 255, '1')\n",
    "show(bw.convert('RGBA'))\n",
    "cropped_image = bw.convert('RGBA')"
   ]
  },
  {
   "cell_type": "code",
   "execution_count": 25,
   "metadata": {},
   "outputs": [
    {
     "data": {
      "text/plain": [
       "'A 9 36 45 128 0\\nS 52 36 92 129 0\\nS 99 36 140 129 0\\nM 151 36 189 128 0\\nA 200 36 237 128 0\\nN 248 36 287 128 0'"
      ]
     },
     "execution_count": 25,
     "metadata": {},
     "output_type": "execute_result"
    }
   ],
   "source": [
    "boxes = pytesseract.image_to_boxes(cropped_image)\n",
    "#pytesseract.image_to_string(cropped_image)\n",
    "boxes"
   ]
  },
  {
   "cell_type": "code",
   "execution_count": 34,
   "metadata": {},
   "outputs": [
    {
     "data": {
      "text/plain": [
       "[None, None, None, None, None, None]"
      ]
     },
     "execution_count": 34,
     "metadata": {},
     "output_type": "execute_result"
    }
   ],
   "source": [
    "bout = Image.new('RGBA', cropped_image.size, (255,255,255,0))\n",
    "d = ImageDraw.Draw(bout)\n",
    "#[[_[0]] + [int(__) for __ in _.split()[1:]] for _ in boxes.split('\\n')[1:]]\n",
    "[d.rectangle([int(__) for __ in _.split()[1:-1]], outline=(255, 0, 0, 255)) for _ in boxes.split('\\n')]\n",
    "#d.text((100, 10), \"Hello\", fill=(255, 0, 0, 255))"
   ]
  },
  {
   "cell_type": "code",
   "execution_count": 35,
   "metadata": {},
   "outputs": [
    {
     "data": {
      "image/png": "[encoded data removed]",
      "text/plain": [
       "<matplotlib.figure.Figure at 0x7fa7ba32d4a8>"
      ]
     },
     "metadata": {},
     "output_type": "display_data"
    }
   ],
   "source": [
    "out = Image.alpha_composite(cropped_image, bout)\n",
    "show(out)"
   ]
  },
  {
   "cell_type": "code",
   "execution_count": 36,
   "metadata": {},
   "outputs": [],
   "source": [
    "def get_plate():\n",
    "    refresh_rate = 750\n",
    "    guesses, best_guess = {}, \"\"\n",
    "    gcount, gmax = 0, 25\n",
    "    fnt = ImageFont.truetype('Pillow/Tests/fonts/FreeMono.ttf', 40)\n",
    "    x, t = 0, time.clock()\n",
    "    cap = cv2.VideoCapture (0)\n",
    "    while (True):\n",
    "        ret, frame = cap.read()\n",
    "        if not ret:\n",
    "            continue\n",
    "        gray = cv2.cvtColor (frame, cv2.COLOR_BGR2GRAY)\n",
    "        gray = processImage(Image.fromarray(gray))\n",
    "\n",
    "        if x%refresh_rate:\n",
    "            txt = pytesseract.image_to_string(gray)\n",
    "            guesses.update({txt: guesses[txt] + 1 if txt in guesses else 1})\n",
    "            if txt is not '':\n",
    "                gcount += 1\n",
    "\n",
    "            bout = Image.new('RGBA', gray.size, (255,255,255,0))\n",
    "            bw, bh = bout.size\n",
    "            d = ImageDraw.Draw(bout)\n",
    "            d.text((10,10), ascii(txt), font=fnt, fill=(255,0,0,255))\n",
    "\n",
    "            best_guess = make_guess(guesses)\n",
    "            if valid_guess(best_guess):\n",
    "                d.text((10, bh - 50), best_guess, font=fnt, fill=(0,255,0,255))\n",
    "            else:\n",
    "                d.text((10, bh - 50), best_guess, font=fnt, fill=(255,0,0,255))\n",
    "            gray = Image.alpha_composite(gray, bout)\n",
    "\n",
    "            #print(1/(time.clock() - t))\n",
    "            t = time.clock()\n",
    "            if gcount > gmax:\n",
    "                gcount = 0\n",
    "                guesses = {}\n",
    "\n",
    "        cv2.imshow('frame', np.array(gray.convert('RGB'))[:, :, ::-1].copy())\n",
    "        if cv2.waitKey (1) & 0xFF == ord('q'):\n",
    "            return best_guess\n",
    "        x += 1\n",
    "        if len(best_guess) > 1 and valid_guess(best_guess):\n",
    "            return best_guess"
   ]
  },
  {
   "cell_type": "code",
   "execution_count": 37,
   "metadata": {},
   "outputs": [],
   "source": [
    "def make_guess(g):\n",
    "    km, vm = '', 0\n",
    "    for k, v in g.items():\n",
    "        if k is not '' and v > 1:\n",
    "            if v > vm:\n",
    "                vm = v\n",
    "                km = k\n",
    "    return km\n",
    "\n",
    "def valid_guess(s):\n",
    "    domain = 'ABCDEFGHIJKLMNOPQRSTUVWXYZ0123456789-'\n",
    "    for _ in s:\n",
    "        if _ not in domain:\n",
    "            return False\n",
    "    return True\n",
    "\n",
    "def makeSQLtime():\n",
    "    return int(time.ctime().split()[3].replace(':','')), str(datetime.datetime.today().date())"
   ]
  },
  {
   "cell_type": "code",
   "execution_count": 7,
   "metadata": {},
   "outputs": [
    {
     "data": {
      "text/plain": [
       "'2019-12-08'"
      ]
     },
     "execution_count": 7,
     "metadata": {},
     "output_type": "execute_result"
    }
   ],
   "source": [
    "x, y = makeSQLtime()\n",
    "y"
   ]
  },
  {
   "cell_type": "code",
   "execution_count": 8,
   "metadata": {},
   "outputs": [],
   "source": [
    "def createTransaction(guess = \"\"):\n",
    "    global transaction_state\n",
    "    inf = []\n",
    "    if guess is \"\":\n",
    "        guess = get_plate()\n",
    "    cnx = cur = None\n",
    "    try:\n",
    "        cnx = mysql.connector.connect(**config)\n",
    "    except mysql.connector.Error as err:\n",
    "        if err.errno == errorcode.ER_ACCESS_DENIED_ERROR:\n",
    "            print('Something is wrong with your user name or password')\n",
    "        elif err.errno == errorcode.ER_BAD_DB_ERROR:\n",
    "            print(\"Database does not exist\")\n",
    "        else:\n",
    "            print(err)\n",
    "    else:\n",
    "        cur = cnx.cursor()\n",
    "        #cur.execute('show databases;')\n",
    "        #for row in cur.fetchall():\n",
    "        #    print(row)\n",
    "\n",
    "        cur.execute('USE usr;')\n",
    "        cur.execute('SELECT * FROM user WHERE plate_num = \"{}\";'.format(guess))\n",
    "        for row in cur.fetchall():\n",
    "            inf += [row]\n",
    "            print(row)\n",
    "\n",
    "        if len(inf) is 1:\n",
    "            START_TIME, START_DATE = makeSQLtime()\n",
    "            cur.execute('INSERT INTO transaction (user_id, loc_id, start_time, start_date, price) VALUES ({}, {}, {}, \"{}\", {});'.format(\n",
    "                inf[0][1], \n",
    "                THIS_LOCATION, \n",
    "                START_TIME, \n",
    "                START_DATE, \n",
    "                getLocationRate(THIS_LOCATION)))\n",
    "            cnx.commit()\n",
    "            transaction_state = {\n",
    "                'user_id': inf[0][1],\n",
    "                'loc_id': THIS_LOCATION,\n",
    "                'start_time': START_TIME,\n",
    "                'start_date': START_DATE,\n",
    "                'valid': 1\n",
    "            }\n",
    "\n",
    "            print('Transaction created')\n",
    "        else:\n",
    "            print('Invalid user selection!')\n",
    "            print('Prompt for user information on panel')\n",
    "    finally:\n",
    "        if cur:\n",
    "            cur.close()\n",
    "        if cnx:\n",
    "            cnx.close()"
   ]
  },
  {
   "cell_type": "code",
   "execution_count": 10,
   "metadata": {},
   "outputs": [],
   "source": [
    "def closeTransaction():\n",
    "    global transaction_state\n",
    "    if transaction_state['valid'] is 0:\n",
    "        return\n",
    "    \n",
    "    inf = []\n",
    "    print(transaction_state)\n",
    "    cnx = cur = None\n",
    "    try:\n",
    "        cnx = mysql.connector.connect(**config)\n",
    "    except mysql.connector.Error as err:\n",
    "        if err.errno == errorcode.ER_ACCESS_DENIED_ERROR:\n",
    "            print('Something is wrong with your user name or password')\n",
    "        elif err.errno == errorcode.ER_BAD_DB_ERROR:\n",
    "            print(\"Database does not exist\")\n",
    "        else:\n",
    "            print(err)\n",
    "    else:\n",
    "        cur = cnx.cursor()\n",
    "\n",
    "        cur.execute('USE usr;')\n",
    "        cur.execute('SELECT * FROM transaction WHERE user_id = {} AND loc_id = {} AND start_time = {} AND start_date = \"{}\";'.format(\n",
    "            transaction_state['user_id'],\n",
    "            transaction_state['loc_id'],\n",
    "            transaction_state['start_time'],\n",
    "            transaction_state['start_date']\n",
    "        ))\n",
    "        for row in cur.fetchall():\n",
    "            inf += [row]\n",
    "            print(row)\n",
    "\n",
    "        if len(inf) is 1:\n",
    "            END_TIME, END_DATE = makeSQLtime()\n",
    "            cur.execute('UPDATE transaction SET end_time = {}, end_date = \"{}\"  WHERE user_id = {} AND loc_id = {} AND start_time = {} AND start_date = \"{}\";'.format(\n",
    "                END_TIME,\n",
    "                END_DATE,\n",
    "                transaction_state['user_id'],\n",
    "                THIS_LOCATION,\n",
    "                transaction_state['start_time'],\n",
    "                transaction_state['start_date']\n",
    "            ))\n",
    "            cnx.commit()\n",
    "            transaction_state = {\n",
    "                'user_id': 0,\n",
    "                'loc_id': 0,\n",
    "                'start_time': 0,\n",
    "                'valid': 0\n",
    "            }\n",
    "\n",
    "            print('Transaction updated')\n",
    "        else:\n",
    "            print('Invalid user selection!')\n",
    "            print('Prompt for user information on panel')\n",
    "    finally:\n",
    "        if cur:\n",
    "            cur.close()\n",
    "        if cnx:\n",
    "            cnx.close()\n",
    "  "
   ]
  },
  {
   "cell_type": "code",
   "execution_count": 11,
   "metadata": {},
   "outputs": [],
   "source": [
    "def getLocationRate(loc_id):\n",
    "    dat = []\n",
    "    cnx = cur = None\n",
    "    try:\n",
    "        cnx = mysql.connector.connect(**config)\n",
    "    except mysql.connector.Error as err:\n",
    "        if err.errno == errorcode.ER_ACCESS_DENIED_ERROR:\n",
    "            print('Something is wrong with your user name or password')\n",
    "        elif err.errno == errorcode.ER_BAD_DB_ERROR:\n",
    "            print(\"Database does not exist\")\n",
    "        else:\n",
    "            print(err)\n",
    "    else:\n",
    "        cur = cnx.cursor()\n",
    "\n",
    "        cur.execute('USE usr;')\n",
    "        cur.execute('SELECT cost FROM rate WHERE loc_id = {};'.format(loc_id))\n",
    "        for row in cur.fetchall():\n",
    "            dat += [row]\n",
    "            #print(row)\n",
    "    finally:\n",
    "        if cur:\n",
    "            cur.close()\n",
    "        if cnx:\n",
    "            cnx.close()\n",
    "    return dat[0][0]"
   ]
  },
  {
   "cell_type": "code",
   "execution_count": 12,
   "metadata": {},
   "outputs": [],
   "source": [
    "def getCostByLicense(license):\n",
    "    dat = []\n",
    "    cnx = cur = None\n",
    "    try:\n",
    "        cnx = mysql.connector.connect(**config)\n",
    "    except mysql.connector.Error as err:\n",
    "        if err.errno == errorcode.ER_ACCESS_DENIED_ERROR:\n",
    "            print('Something is wrong with your user name or password')\n",
    "        elif err.errno == errorcode.ER_BAD_DB_ERROR:\n",
    "            print(\"Database does not exist\")\n",
    "        else:\n",
    "            print(err)\n",
    "    else:\n",
    "        cur = cnx.cursor()\n",
    "\n",
    "        cur.execute('USE usr;')\n",
    "        cur.execute('SELECT trans_id, loc_id, start_date, start_time, MINUTE(TIMEDIFF(cast(concat(end_date, \" \", end_time) as datetime), cast(concat(start_date, \" \", start_time) as datetime)))*Price AS Cost FROM user NATURAL JOIN transaction WHERE plate_num = \"{}\";'.format(license))\n",
    "        for row in cur.fetchall():\n",
    "            dat += [row]\n",
    "            #print(row)\n",
    "    finally:\n",
    "        if cur:\n",
    "            cur.close()\n",
    "        if cnx:\n",
    "            cnx.close()\n",
    "    return dat"
   ]
  },
  {
   "cell_type": "code",
   "execution_count": 22,
   "metadata": {},
   "outputs": [
    {
     "name": "stdout",
     "output_type": "stream",
     "text": [
      "('ABC-1001', 1, 'Honda', 'Odyssey', 'Gray')\n",
      "Transaction created\n"
     ]
    }
   ],
   "source": [
    "createTransaction(guess = \"ABC-1001\")"
   ]
  },
  {
   "cell_type": "code",
   "execution_count": 38,
   "metadata": {},
   "outputs": [
    {
     "name": "stdout",
     "output_type": "stream",
     "text": [
      "2003: Can't connect to MySQL server on '35.193.20.163:3306' (101 Network is unreachable)\n"
     ]
    }
   ],
   "source": [
    "createTransaction()"
   ]
  },
  {
   "cell_type": "code",
   "execution_count": 23,
   "metadata": {},
   "outputs": [
    {
     "name": "stdout",
     "output_type": "stream",
     "text": [
      "{'user_id': 1, 'loc_id': 1, 'start_time': 130559, 'start_date': '2019-03-24', 'valid': 1}\n",
      "(11, 1, 1, datetime.timedelta(0, 47159), datetime.date(2019, 3, 24), None, None, -200)\n",
      "Transaction updated\n"
     ]
    }
   ],
   "source": [
    "closeTransaction()"
   ]
  },
  {
   "cell_type": "code",
   "execution_count": null,
   "metadata": {},
   "outputs": [],
   "source": [
    "d = getCostByLicense('ABC-1001')\n",
    "row_titles = [[\"Transaction ID\", \"Location ID\", \"Start Date\", \"Start Time\", \"Total Cost\"]]\n",
    "[[print(\"{:>20}\".format(str(__)), end = '\\t') for __ in _] + [print()] for _ in row_titles + d];None"
   ]
  },
  {
   "cell_type": "code",
   "execution_count": null,
   "metadata": {},
   "outputs": [],
   "source": [
    "transaction_state"
   ]
  }
 ],
 "metadata": {
  "kernelspec": {
   "display_name": "Python 3",
   "language": "python",
   "name": "python3"
  },
  "language_info": {
   "codemirror_mode": {
    "name": "ipython",
    "version": 3
   },
   "file_extension": ".py",
   "mimetype": "text/x-python",
   "name": "python",
   "nbconvert_exporter": "python",
   "pygments_lexer": "ipython3",
   "version": "3.6.5"
  }
 },
 "nbformat": 4,
 "nbformat_minor": 2
}
