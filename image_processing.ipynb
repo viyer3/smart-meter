{
 "cells": [
  {
   "cell_type": "code",
   "execution_count": 2,
   "metadata": {},
   "outputs": [],
   "source": [
    "#import keras\n",
    "#from keras.application import vgg16\n",
    "import mysql.connector\n",
    "from mysql.connector import errorcode\n",
    "\n",
    "config = {\n",
    "    'user': 'root',\n",
    "    'password': 'GETFILE',\n",
    "    'host': '35.193.20.163',\n",
    "    'database': 'usr'\n",
    "}\n",
    "\n",
    "\n",
    "from PIL import Image, ImageDraw, ImageFont\n",
    "from matplotlib.pyplot import imshow\n",
    "import pytesseract, cv2\n",
    "import numpy as np\n",
    "import pytesseract\n",
    "import time\n",
    "import pyodbc\n",
    "%matplotlib inline"
   ]
  },
  {
   "cell_type": "code",
   "execution_count": 3,
   "metadata": {},
   "outputs": [],
   "source": [
    "def test(s):\n",
    "    img = Image.open(s)\n",
    "    return pytesseract.image_to_string(s)\n",
    "\n",
    "def testrun():\n",
    "    return test('license.jpg')"
   ]
  },
  {
   "cell_type": "code",
   "execution_count": 4,
   "metadata": {},
   "outputs": [],
   "source": [
    "def processImage(img, exp = 128):\n",
    "    w, h = img.size\n",
    "    #x, y, wcrop, hcrop = 120, 78, 50, 50\n",
    "    cropped_image = img#.crop((x, y, w - wcrop, h - hcrop))\n",
    "    gray = cropped_image.convert('L')\n",
    "    bw = gray.point(lambda x: 0 if x<exp else 255, '1')\n",
    "    cropped_image = bw.convert('RGBA')\n",
    "    return cropped_image\n",
    "    \n",
    "def show(i):\n",
    "    imshow(np.asarray(i))"
   ]
  },
  {
   "cell_type": "code",
   "execution_count": null,
   "metadata": {},
   "outputs": [],
   "source": [
    "img = Image.open('license.jpg').convert('RGBA')\n",
    "w, h = img.size"
   ]
  },
  {
   "cell_type": "code",
   "execution_count": null,
   "metadata": {},
   "outputs": [],
   "source": [
    "x, y, wcrop, hcrop = 120, 78, 50, 50\n",
    "cropped_image = img.crop((x, y, w - wcrop, h - hcrop))\n",
    "#show(cropped_image)\n",
    "gray = cropped_image.convert('L')\n",
    "bw = gray.point(lambda x: 0 if x<38 else 255, '1')\n",
    "show(bw.convert('RGBA'))\n",
    "cropped_image = bw.convert('RGBA')"
   ]
  },
  {
   "cell_type": "code",
   "execution_count": null,
   "metadata": {},
   "outputs": [],
   "source": [
    "boxes = pytesseract.image_to_boxes(cropped_image)\n",
    "pytesseract.image_to_string(cropped_image)"
   ]
  },
  {
   "cell_type": "code",
   "execution_count": null,
   "metadata": {},
   "outputs": [],
   "source": [
    "bout = Image.new('RGBA', cropped_image.size, (255,255,255,0))\n",
    "d = ImageDraw.Draw(bout)\n",
    "#[[_[0]] + [int(__) for __ in _.split()[1:]] for _ in boxes.split('\\n')[1:]]\n",
    "[d.rectangle([int(__) for __ in _.split()[1:-1]]) for _ in boxes.split('\\n')[:]]\n",
    "d.text((100, 10), \"Hello\", fill=(255, 0, 0, 255))"
   ]
  },
  {
   "cell_type": "code",
   "execution_count": null,
   "metadata": {},
   "outputs": [],
   "source": [
    "out = Image.alpha_composite(cropped_image, bout)\n",
    "show(out)"
   ]
  },
  {
   "cell_type": "code",
   "execution_count": 5,
   "metadata": {},
   "outputs": [],
   "source": [
    "def get_plate():\n",
    "    refresh_rate = 750\n",
    "    guesses, best_guess = {}, \"\"\n",
    "    gcount, gmax = 0, 25\n",
    "    fnt = ImageFont.truetype('Pillow/Tests/fonts/FreeMono.ttf', 40)\n",
    "    x, t = 0, time.clock()\n",
    "    cap = cv2.VideoCapture (0)\n",
    "    while (True):\n",
    "        ret, frame = cap.read()\n",
    "        if not ret:\n",
    "            continue\n",
    "        gray = cv2.cvtColor (frame, cv2.COLOR_BGR2GRAY)\n",
    "        gray = processImage(Image.fromarray(gray))\n",
    "\n",
    "        if x%refresh_rate:\n",
    "            txt = pytesseract.image_to_string(gray)\n",
    "            guesses.update({txt: guesses[txt] + 1 if txt in guesses else 1})\n",
    "            if txt is not '':\n",
    "                gcount += 1\n",
    "\n",
    "            bout = Image.new('RGBA', gray.size, (255,255,255,0))\n",
    "            bw, bh = bout.size\n",
    "            d = ImageDraw.Draw(bout)\n",
    "            d.text((10,10), ascii(txt), font=fnt, fill=(255,0,0,255))\n",
    "\n",
    "            best_guess = make_guess(guesses)\n",
    "            if valid_guess(best_guess):\n",
    "                d.text((10, bh - 50), best_guess, font=fnt, fill=(0,255,0,255))\n",
    "            else:\n",
    "                d.text((10, bh - 50), best_guess, font=fnt, fill=(255,0,0,255))\n",
    "            gray = Image.alpha_composite(gray, bout)\n",
    "\n",
    "            #print(1/(time.clock() - t))\n",
    "            t = time.clock()\n",
    "            if gcount > gmax:\n",
    "                gcount = 0\n",
    "                guesses = {}\n",
    "\n",
    "        cv2.imshow('frame', np.array(gray.convert('RGB'))[:, :, ::-1].copy())\n",
    "        if cv2.waitKey (1) & 0xFF == ord('q'):\n",
    "            return best_guess\n",
    "        x += 1\n",
    "        if len(best_guess) > 1 and valid_guess(best_guess):\n",
    "            return best_guess"
   ]
  },
  {
   "cell_type": "code",
   "execution_count": 6,
   "metadata": {},
   "outputs": [],
   "source": [
    "def make_guess(g):\n",
    "    km, vm = '', 0\n",
    "    for k, v in g.items():\n",
    "        if k is not '' and v > 1:\n",
    "            if v > vm:\n",
    "                vm = v\n",
    "                km = k\n",
    "    return km\n",
    "\n",
    "def valid_guess(s):\n",
    "    domain = 'ABCDEFGHIJKLMNOPQRSTUVWXYZ0123456789-'\n",
    "    for _ in s:\n",
    "        if _ not in domain:\n",
    "            return False\n",
    "    return True"
   ]
  },
  {
   "cell_type": "code",
   "execution_count": 13,
   "metadata": {},
   "outputs": [],
   "source": [
    "guess = get_plate()\n",
    "cnx = cur = None\n",
    "try:\n",
    "    cnx = mysql.connector.connect(**config)\n",
    "except mysql.connector.Error as err:\n",
    "    if err.errno == errorcode.ER_ACCESS_DENIED_ERROR:\n",
    "        print('Something is wrong with your user name or password')\n",
    "    elif err.errno == errorcode.ER_BAD_DB_ERROR:\n",
    "        print(\"Database does not exist\")\n",
    "    else:\n",
    "        print(err)\n",
    "else:\n",
    "    cur = cnx.cursor()\n",
    "    #cur.execute('show databases;')\n",
    "    #for row in cur.fetchall():\n",
    "    #    print(row)\n",
    "    \n",
    "    cur.execute('USE usr;')\n",
    "    cur.execute('SELECT * FROM user WHERE plate_num = \"{}\";'.format(guess))\n",
    "    for row in cur.fetchall():\n",
    "        print(row)\n",
    "finally:\n",
    "    if cur:\n",
    "        cur.close()\n",
    "    if cnx:\n",
    "        cnx.close()"
   ]
  },
  {
   "cell_type": "code",
   "execution_count": 12,
   "metadata": {},
   "outputs": [
    {
     "ename": "ModuleNotFoundError",
     "evalue": "No module named 'date'",
     "output_type": "error",
     "traceback": [
      "\u001b[0;31m---------------------------------------------------------------------------\u001b[0m",
      "\u001b[0;31mModuleNotFoundError\u001b[0m                       Traceback (most recent call last)",
      "\u001b[0;32m<ipython-input-12-85b901c5c372>\u001b[0m in \u001b[0;36m<module>\u001b[0;34m()\u001b[0m\n\u001b[0;32m----> 1\u001b[0;31m \u001b[0;32mimport\u001b[0m \u001b[0mtime\u001b[0m\u001b[0;34m,\u001b[0m \u001b[0mdate\u001b[0m\u001b[0;34m\u001b[0m\u001b[0m\n\u001b[0m",
      "\u001b[0;31mModuleNotFoundError\u001b[0m: No module named 'date'"
     ]
    }
   ],
   "source": []
  },
  {
   "cell_type": "code",
   "execution_count": null,
   "metadata": {},
   "outputs": [],
   "source": []
  }
 ],
 "metadata": {
  "kernelspec": {
   "display_name": "Python 3",
   "language": "python",
   "name": "python3"
  },
  "language_info": {
   "codemirror_mode": {
    "name": "ipython",
    "version": 3
   },
   "file_extension": ".py",
   "mimetype": "text/x-python",
   "name": "python",
   "nbconvert_exporter": "python",
   "pygments_lexer": "ipython3",
   "version": "3.6.5"
  }
 },
 "nbformat": 4,
 "nbformat_minor": 2
}
